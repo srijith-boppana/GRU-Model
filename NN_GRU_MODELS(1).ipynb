{
 "cells": [
  {
   "cell_type": "code",
   "execution_count": 2,
   "metadata": {},
   "outputs": [
    {
     "name": "stdout",
     "output_type": "stream",
     "text": [
      "Python Version: 3.7.6 (default, Jan  8 2020, 20:23:39) [MSC v.1916 64 bit (AMD64)]\n",
      "SKLearn Version: 0.23.2\n",
      "Pandas Version: 1.0.1\n",
      "Numpy Version: 1.18.1\n",
      "TensorFlow Version: 2.3.0\n"
     ]
    }
   ],
   "source": [
    "import sys\n",
    "import numpy as np\n",
    "import pandas as pd\n",
    "import tensorflow as tf\n",
    "import matplotlib\n",
    "import matplotlib.pyplot as plt\n",
    "import sklearn\n",
    "from pandas.plotting import scatter_matrix\n",
    "\n",
    "\n",
    "from keras.models import Sequential\n",
    "from keras.layers import Dense, LSTM, Dropout, GRU\n",
    "\n",
    "from keras import optimizers\n",
    "\n",
    "from keras.optimizers import SGD\n",
    "\n",
    "from sklearn.model_selection import train_test_split\n",
    "\n",
    "\n",
    "print(\"Python Version: {}\".format(sys.version))\n",
    "print(\"SKLearn Version: {}\".format(sklearn.__version__))\n",
    "print(\"Pandas Version: {}\".format(pd.__version__))\n",
    "print(\"Numpy Version: {}\".format(np.__version__))\n",
    "print(\"TensorFlow Version: {}\".format(tf.__version__))"
   ]
  },
  {
   "cell_type": "code",
   "execution_count": 3,
   "metadata": {},
   "outputs": [],
   "source": [
    "df = pd.read_csv(r'C:\\01 Study Materials\\01 Thesis\\Heart-Disease-Prediction-master\\heart-data.csv')"
   ]
  },
  {
   "cell_type": "code",
   "execution_count": 4,
   "metadata": {},
   "outputs": [
    {
     "name": "stdout",
     "output_type": "stream",
     "text": [
      "<class 'pandas.core.frame.DataFrame'>\n",
      "RangeIndex: 907 entries, 0 to 906\n",
      "Data columns (total 14 columns):\n",
      " #   Column    Non-Null Count  Dtype  \n",
      "---  ------    --------------  -----  \n",
      " 0   age       907 non-null    int64  \n",
      " 1   sex       907 non-null    int64  \n",
      " 2   cp        907 non-null    int64  \n",
      " 3   trestbps  907 non-null    int64  \n",
      " 4   chol      907 non-null    int64  \n",
      " 5   fbs       907 non-null    int64  \n",
      " 6   restecg   907 non-null    int64  \n",
      " 7   thalach   907 non-null    int64  \n",
      " 8   exang     907 non-null    int64  \n",
      " 9   oldpeak   907 non-null    float64\n",
      " 10  slope     907 non-null    int64  \n",
      " 11  ca        907 non-null    int64  \n",
      " 12  thal      907 non-null    int64  \n",
      " 13  target    907 non-null    int64  \n",
      "dtypes: float64(1), int64(13)\n",
      "memory usage: 99.3 KB\n"
     ]
    }
   ],
   "source": [
    "df.info()"
   ]
  },
  {
   "cell_type": "code",
   "execution_count": 5,
   "metadata": {},
   "outputs": [],
   "source": [
    "df = df.apply(pd.to_numeric)"
   ]
  },
  {
   "cell_type": "code",
   "execution_count": 6,
   "metadata": {},
   "outputs": [
    {
     "data": {
      "text/html": [
       "<div>\n",
       "<style scoped>\n",
       "    .dataframe tbody tr th:only-of-type {\n",
       "        vertical-align: middle;\n",
       "    }\n",
       "\n",
       "    .dataframe tbody tr th {\n",
       "        vertical-align: top;\n",
       "    }\n",
       "\n",
       "    .dataframe thead th {\n",
       "        text-align: right;\n",
       "    }\n",
       "</style>\n",
       "<table border=\"1\" class=\"dataframe\">\n",
       "  <thead>\n",
       "    <tr style=\"text-align: right;\">\n",
       "      <th></th>\n",
       "      <th>age</th>\n",
       "      <th>trestbps</th>\n",
       "      <th>chol</th>\n",
       "      <th>thalach</th>\n",
       "      <th>thal</th>\n",
       "      <th>sex</th>\n",
       "      <th>cp</th>\n",
       "      <th>fbs</th>\n",
       "      <th>restecg</th>\n",
       "      <th>exang</th>\n",
       "      <th>oldpeak</th>\n",
       "      <th>slope</th>\n",
       "      <th>ca</th>\n",
       "      <th>target</th>\n",
       "    </tr>\n",
       "  </thead>\n",
       "  <tbody>\n",
       "    <tr>\n",
       "      <th>0</th>\n",
       "      <td>0.708333</td>\n",
       "      <td>0.481132</td>\n",
       "      <td>0.244292</td>\n",
       "      <td>0.603053</td>\n",
       "      <td>0.333333</td>\n",
       "      <td>1</td>\n",
       "      <td>3</td>\n",
       "      <td>1</td>\n",
       "      <td>0</td>\n",
       "      <td>0</td>\n",
       "      <td>2.3</td>\n",
       "      <td>0</td>\n",
       "      <td>0</td>\n",
       "      <td>1</td>\n",
       "    </tr>\n",
       "    <tr>\n",
       "      <th>1</th>\n",
       "      <td>0.166667</td>\n",
       "      <td>0.339623</td>\n",
       "      <td>0.283105</td>\n",
       "      <td>0.885496</td>\n",
       "      <td>0.666667</td>\n",
       "      <td>1</td>\n",
       "      <td>2</td>\n",
       "      <td>0</td>\n",
       "      <td>1</td>\n",
       "      <td>0</td>\n",
       "      <td>3.5</td>\n",
       "      <td>0</td>\n",
       "      <td>0</td>\n",
       "      <td>1</td>\n",
       "    </tr>\n",
       "    <tr>\n",
       "      <th>2</th>\n",
       "      <td>0.250000</td>\n",
       "      <td>0.339623</td>\n",
       "      <td>0.178082</td>\n",
       "      <td>0.770992</td>\n",
       "      <td>0.666667</td>\n",
       "      <td>0</td>\n",
       "      <td>1</td>\n",
       "      <td>0</td>\n",
       "      <td>0</td>\n",
       "      <td>0</td>\n",
       "      <td>1.4</td>\n",
       "      <td>2</td>\n",
       "      <td>0</td>\n",
       "      <td>1</td>\n",
       "    </tr>\n",
       "    <tr>\n",
       "      <th>3</th>\n",
       "      <td>0.562500</td>\n",
       "      <td>0.245283</td>\n",
       "      <td>0.251142</td>\n",
       "      <td>0.816794</td>\n",
       "      <td>0.666667</td>\n",
       "      <td>1</td>\n",
       "      <td>1</td>\n",
       "      <td>0</td>\n",
       "      <td>1</td>\n",
       "      <td>0</td>\n",
       "      <td>0.8</td>\n",
       "      <td>2</td>\n",
       "      <td>0</td>\n",
       "      <td>1</td>\n",
       "    </tr>\n",
       "    <tr>\n",
       "      <th>4</th>\n",
       "      <td>0.583333</td>\n",
       "      <td>0.245283</td>\n",
       "      <td>0.520548</td>\n",
       "      <td>0.702290</td>\n",
       "      <td>0.666667</td>\n",
       "      <td>0</td>\n",
       "      <td>0</td>\n",
       "      <td>0</td>\n",
       "      <td>1</td>\n",
       "      <td>1</td>\n",
       "      <td>0.6</td>\n",
       "      <td>2</td>\n",
       "      <td>0</td>\n",
       "      <td>1</td>\n",
       "    </tr>\n",
       "    <tr>\n",
       "      <th>...</th>\n",
       "      <td>...</td>\n",
       "      <td>...</td>\n",
       "      <td>...</td>\n",
       "      <td>...</td>\n",
       "      <td>...</td>\n",
       "      <td>...</td>\n",
       "      <td>...</td>\n",
       "      <td>...</td>\n",
       "      <td>...</td>\n",
       "      <td>...</td>\n",
       "      <td>...</td>\n",
       "      <td>...</td>\n",
       "      <td>...</td>\n",
       "      <td>...</td>\n",
       "    </tr>\n",
       "    <tr>\n",
       "      <th>902</th>\n",
       "      <td>0.458333</td>\n",
       "      <td>0.433962</td>\n",
       "      <td>0.392694</td>\n",
       "      <td>0.389313</td>\n",
       "      <td>1.000000</td>\n",
       "      <td>1</td>\n",
       "      <td>1</td>\n",
       "      <td>0</td>\n",
       "      <td>0</td>\n",
       "      <td>1</td>\n",
       "      <td>4.2</td>\n",
       "      <td>1</td>\n",
       "      <td>4</td>\n",
       "      <td>1</td>\n",
       "    </tr>\n",
       "    <tr>\n",
       "      <th>903</th>\n",
       "      <td>0.291667</td>\n",
       "      <td>0.358491</td>\n",
       "      <td>0.276256</td>\n",
       "      <td>0.549618</td>\n",
       "      <td>1.000000</td>\n",
       "      <td>1</td>\n",
       "      <td>3</td>\n",
       "      <td>1</td>\n",
       "      <td>1</td>\n",
       "      <td>1</td>\n",
       "      <td>0.1</td>\n",
       "      <td>1</td>\n",
       "      <td>4</td>\n",
       "      <td>1</td>\n",
       "    </tr>\n",
       "    <tr>\n",
       "      <th>904</th>\n",
       "      <td>0.687500</td>\n",
       "      <td>0.415094</td>\n",
       "      <td>0.383562</td>\n",
       "      <td>0.267176</td>\n",
       "      <td>0.333333</td>\n",
       "      <td>0</td>\n",
       "      <td>1</td>\n",
       "      <td>0</td>\n",
       "      <td>1</td>\n",
       "      <td>0</td>\n",
       "      <td>1.9</td>\n",
       "      <td>1</td>\n",
       "      <td>4</td>\n",
       "      <td>1</td>\n",
       "    </tr>\n",
       "    <tr>\n",
       "      <th>905</th>\n",
       "      <td>0.812500</td>\n",
       "      <td>0.245283</td>\n",
       "      <td>0.194064</td>\n",
       "      <td>0.335878</td>\n",
       "      <td>0.333333</td>\n",
       "      <td>0</td>\n",
       "      <td>0</td>\n",
       "      <td>1</td>\n",
       "      <td>0</td>\n",
       "      <td>0</td>\n",
       "      <td>1.5</td>\n",
       "      <td>1</td>\n",
       "      <td>1</td>\n",
       "      <td>0</td>\n",
       "    </tr>\n",
       "    <tr>\n",
       "      <th>906</th>\n",
       "      <td>0.791667</td>\n",
       "      <td>0.056604</td>\n",
       "      <td>0.394977</td>\n",
       "      <td>0.412214</td>\n",
       "      <td>0.333333</td>\n",
       "      <td>1</td>\n",
       "      <td>1</td>\n",
       "      <td>1</td>\n",
       "      <td>0</td>\n",
       "      <td>1</td>\n",
       "      <td>0.9</td>\n",
       "      <td>1</td>\n",
       "      <td>4</td>\n",
       "      <td>1</td>\n",
       "    </tr>\n",
       "  </tbody>\n",
       "</table>\n",
       "<p>907 rows × 14 columns</p>\n",
       "</div>"
      ],
      "text/plain": [
       "          age  trestbps      chol   thalach      thal  sex  cp  fbs  restecg  \\\n",
       "0    0.708333  0.481132  0.244292  0.603053  0.333333    1   3    1        0   \n",
       "1    0.166667  0.339623  0.283105  0.885496  0.666667    1   2    0        1   \n",
       "2    0.250000  0.339623  0.178082  0.770992  0.666667    0   1    0        0   \n",
       "3    0.562500  0.245283  0.251142  0.816794  0.666667    1   1    0        1   \n",
       "4    0.583333  0.245283  0.520548  0.702290  0.666667    0   0    0        1   \n",
       "..        ...       ...       ...       ...       ...  ...  ..  ...      ...   \n",
       "902  0.458333  0.433962  0.392694  0.389313  1.000000    1   1    0        0   \n",
       "903  0.291667  0.358491  0.276256  0.549618  1.000000    1   3    1        1   \n",
       "904  0.687500  0.415094  0.383562  0.267176  0.333333    0   1    0        1   \n",
       "905  0.812500  0.245283  0.194064  0.335878  0.333333    0   0    1        0   \n",
       "906  0.791667  0.056604  0.394977  0.412214  0.333333    1   1    1        0   \n",
       "\n",
       "     exang  oldpeak  slope  ca  target  \n",
       "0        0      2.3      0   0       1  \n",
       "1        0      3.5      0   0       1  \n",
       "2        0      1.4      2   0       1  \n",
       "3        0      0.8      2   0       1  \n",
       "4        1      0.6      2   0       1  \n",
       "..     ...      ...    ...  ..     ...  \n",
       "902      1      4.2      1   4       1  \n",
       "903      1      0.1      1   4       1  \n",
       "904      0      1.9      1   4       1  \n",
       "905      0      1.5      1   1       0  \n",
       "906      1      0.9      1   4       1  \n",
       "\n",
       "[907 rows x 14 columns]"
      ]
     },
     "execution_count": 6,
     "metadata": {},
     "output_type": "execute_result"
    }
   ],
   "source": [
    "cols_to_norm = ['age', 'trestbps','chol', 'thalach', 'thal']\n",
    "\n",
    "df_normalized = df[cols_to_norm].apply(lambda x: (x - x.min()) / (x.max() - x.min()))\n",
    "\n",
    "## Add back in our other columns\n",
    "\n",
    "df_normalized['sex'] = df['sex']\n",
    "df_normalized['cp'] = df['cp']\n",
    "df_normalized['fbs'] = df['fbs']\n",
    "df_normalized['restecg'] = df['restecg']\n",
    "df_normalized['exang'] = df['exang']\n",
    "df_normalized['oldpeak'] = df['oldpeak']\n",
    "df_normalized['slope'] = df['slope']\n",
    "df_normalized['ca'] = df['ca']\n",
    "df_normalized['target'] = df['target']\n",
    "df_normalized"
   ]
  },
  {
   "cell_type": "code",
   "execution_count": 7,
   "metadata": {},
   "outputs": [],
   "source": [
    "df=df_normalized"
   ]
  },
  {
   "cell_type": "code",
   "execution_count": 8,
   "metadata": {},
   "outputs": [
    {
     "data": {
      "image/png": "[encoded data removed]",
      "text/plain": [
       "<Figure size 864x864 with 16 Axes>"
      ]
     },
     "metadata": {
      "needs_background": "light"
     },
     "output_type": "display_data"
    }
   ],
   "source": [
    "df.hist(figsize=(12,12))\n",
    "plt.show()"
   ]
  },
  {
   "cell_type": "code",
   "execution_count": 9,
   "metadata": {},
   "outputs": [],
   "source": [
    "from sklearn import model_selection\n",
    "\n",
    "X = np.array(df.drop(['target'], axis=1))\n",
    "y = np.array(df['target'])\n",
    "\n",
    "X_train, X_test, y_train, y_test = model_selection.train_test_split(X,y, test_size=0.2)"
   ]
  },
  {
   "cell_type": "code",
   "execution_count": 10,
   "metadata": {},
   "outputs": [
    {
     "data": {
      "text/plain": [
       "array([1, 0, 1, 1, 1], dtype=int64)"
      ]
     },
     "execution_count": 10,
     "metadata": {},
     "output_type": "execute_result"
    }
   ],
   "source": [
    "y_test[:5]"
   ]
  },
  {
   "cell_type": "code",
   "execution_count": 11,
   "metadata": {},
   "outputs": [
    {
     "name": "stdout",
     "output_type": "stream",
     "text": [
      "(725, 5)\n",
      "(182, 5)\n",
      "(725, 13)\n"
     ]
    },
    {
     "data": {
      "text/plain": [
       "array([0.3125    , 0.24528302, 0.21461187, 0.75572519, 0.66666667,\n",
       "       1.        , 1.        , 0.        , 1.        , 0.        ,\n",
       "       0.        , 2.        , 0.        ])"
      ]
     },
     "execution_count": 11,
     "metadata": {},
     "output_type": "execute_result"
    }
   ],
   "source": [
    "from keras.utils.np_utils import to_categorical\n",
    "Y_train = to_categorical(y_train,num_classes=None)\n",
    "Y_test = to_categorical(y_test, num_classes=None)\n",
    "\n",
    "print(Y_train.shape)\n",
    "print(Y_test.shape)\n",
    "print(X_train.shape)\n",
    "\n",
    "X_train[1]"
   ]
  },
  {
   "cell_type": "code",
   "execution_count": 12,
   "metadata": {},
   "outputs": [
    {
     "data": {
      "text/plain": [
       "13"
      ]
     },
     "execution_count": 12,
     "metadata": {},
     "output_type": "execute_result"
    }
   ],
   "source": [
    "X_train.shape[1]"
   ]
  },
  {
   "cell_type": "code",
   "execution_count": 13,
   "metadata": {},
   "outputs": [
    {
     "data": {
      "text/plain": [
       "(13, 1)"
      ]
     },
     "execution_count": 13,
     "metadata": {},
     "output_type": "execute_result"
    }
   ],
   "source": [
    "X_train.shape[1],1"
   ]
  },
  {
   "cell_type": "code",
   "execution_count": null,
   "metadata": {},
   "outputs": [],
   "source": []
  },
  {
   "cell_type": "code",
   "execution_count": 14,
   "metadata": {},
   "outputs": [],
   "source": [
    "\n",
    "def model1():\n",
    "  model = tf.keras.Sequential()\n",
    "  model.add(tf.keras.layers.Dense(units=128, activation=\"relu\", input_shape=(13,)))\n",
    "  model.add(tf.keras.layers.Dropout(0.2))\n",
    "  model.add(tf.keras.layers.Dense(units=64, activation=\"relu\"))\n",
    "  model.add(tf.keras.layers.Dropout(0.2))\n",
    "  model.add(tf.keras.layers.Dense(units=32, activation=\"relu\")) \n",
    "  model.add(tf.keras.layers.Dropout(0.2))\n",
    "  model.add(tf.keras.layers.Dense(units=5, activation=\"softmax\"))\n",
    "  \n",
    "  model.compile(loss=\"binary_crossentropy\", optimizer=tf.keras.optimizers.Adam(0.0001), metrics=[\"accuracy\"])\n",
    "  \n",
    "  return model"
   ]
  },
  {
   "cell_type": "code",
   "execution_count": 15,
   "metadata": {},
   "outputs": [
    {
     "name": "stdout",
     "output_type": "stream",
     "text": [
      "Model: \"sequential\"\n",
      "_________________________________________________________________\n",
      "Layer (type)                 Output Shape              Param #   \n",
      "=================================================================\n",
      "dense (Dense)                (None, 128)               1792      \n",
      "_________________________________________________________________\n",
      "dropout (Dropout)            (None, 128)               0         \n",
      "_________________________________________________________________\n",
      "dense_1 (Dense)              (None, 64)                8256      \n",
      "_________________________________________________________________\n",
      "dropout_1 (Dropout)          (None, 64)                0         \n",
      "_________________________________________________________________\n",
      "dense_2 (Dense)              (None, 32)                2080      \n",
      "_________________________________________________________________\n",
      "dropout_2 (Dropout)          (None, 32)                0         \n",
      "_________________________________________________________________\n",
      "dense_3 (Dense)              (None, 5)                 165       \n",
      "=================================================================\n",
      "Total params: 12,293\n",
      "Trainable params: 12,293\n",
      "Non-trainable params: 0\n",
      "_________________________________________________________________\n",
      "None\n"
     ]
    }
   ],
   "source": [
    "model = model1()\n",
    "print(model.summary())"
   ]
  },
  {
   "cell_type": "code",
   "execution_count": 16,
   "metadata": {},
   "outputs": [
    {
     "name": "stdout",
     "output_type": "stream",
     "text": [
      "Epoch 1/30\n",
      "73/73 [==============================] - 0s 1ms/step - loss: 0.5053 - accuracy: 0.1862\n",
      "Epoch 2/30\n",
      "73/73 [==============================] - 0s 1ms/step - loss: 0.4617 - accuracy: 0.4014\n",
      "Epoch 3/30\n",
      "73/73 [==============================] - 0s 1ms/step - loss: 0.4243 - accuracy: 0.4662\n",
      "Epoch 4/30\n",
      "73/73 [==============================] - 0s 1ms/step - loss: 0.3876 - accuracy: 0.5641\n",
      "Epoch 5/30\n",
      "73/73 [==============================] - 0s 1ms/step - loss: 0.3677 - accuracy: 0.5586\n",
      "Epoch 6/30\n",
      "73/73 [==============================] - 0s 1ms/step - loss: 0.3547 - accuracy: 0.5724\n",
      "Epoch 7/30\n",
      "73/73 [==============================] - 0s 1ms/step - loss: 0.3372 - accuracy: 0.5710\n",
      "Epoch 8/30\n",
      "73/73 [==============================] - 0s 1ms/step - loss: 0.3242 - accuracy: 0.5986\n",
      "Epoch 9/30\n",
      "73/73 [==============================] - ETA: 0s - loss: 0.3276 - accuracy: 0.59 - 0s 1ms/step - loss: 0.3198 - accuracy: 0.6041\n",
      "Epoch 10/30\n",
      "73/73 [==============================] - 0s 1ms/step - loss: 0.3190 - accuracy: 0.6248\n",
      "Epoch 11/30\n",
      "73/73 [==============================] - 0s 1ms/step - loss: 0.3087 - accuracy: 0.6097\n",
      "Epoch 12/30\n",
      "73/73 [==============================] - 0s 1ms/step - loss: 0.2910 - accuracy: 0.6579\n",
      "Epoch 13/30\n",
      "73/73 [==============================] - 0s 1ms/step - loss: 0.2870 - accuracy: 0.6621\n",
      "Epoch 14/30\n",
      "73/73 [==============================] - 0s 1ms/step - loss: 0.2873 - accuracy: 0.6552\n",
      "Epoch 15/30\n",
      "73/73 [==============================] - 0s 1ms/step - loss: 0.2739 - accuracy: 0.6759\n",
      "Epoch 16/30\n",
      "73/73 [==============================] - 0s 1ms/step - loss: 0.2779 - accuracy: 0.6841\n",
      "Epoch 17/30\n",
      "73/73 [==============================] - 0s 1ms/step - loss: 0.2797 - accuracy: 0.6786\n",
      "Epoch 18/30\n",
      "73/73 [==============================] - 0s 1ms/step - loss: 0.2682 - accuracy: 0.7021\n",
      "Epoch 19/30\n",
      "73/73 [==============================] - 0s 1ms/step - loss: 0.2660 - accuracy: 0.6966\n",
      "Epoch 20/30\n",
      "73/73 [==============================] - 0s 1ms/step - loss: 0.2585 - accuracy: 0.6869\n",
      "Epoch 21/30\n",
      "73/73 [==============================] - 0s 1ms/step - loss: 0.2510 - accuracy: 0.7076\n",
      "Epoch 22/30\n",
      "73/73 [==============================] - 0s 1ms/step - loss: 0.2530 - accuracy: 0.7103\n",
      "Epoch 23/30\n",
      "73/73 [==============================] - 0s 1ms/step - loss: 0.2609 - accuracy: 0.7186\n",
      "Epoch 24/30\n",
      "73/73 [==============================] - 0s 1ms/step - loss: 0.2543 - accuracy: 0.7090\n",
      "Epoch 25/30\n",
      "73/73 [==============================] - 0s 1ms/step - loss: 0.2580 - accuracy: 0.7048\n",
      "Epoch 26/30\n",
      "73/73 [==============================] - 0s 1ms/step - loss: 0.2454 - accuracy: 0.7448\n",
      "Epoch 27/30\n",
      "73/73 [==============================] - 0s 1ms/step - loss: 0.2527 - accuracy: 0.7324\n",
      "Epoch 28/30\n",
      "73/73 [==============================] - 0s 973us/step - loss: 0.2518 - accuracy: 0.7297\n",
      "Epoch 29/30\n",
      "73/73 [==============================] - 0s 1ms/step - loss: 0.2423 - accuracy: 0.7200\n",
      "Epoch 30/30\n",
      "73/73 [==============================] - 0s 1ms/step - loss: 0.2417 - accuracy: 0.7352\n"
     ]
    },
    {
     "data": {
      "text/plain": [
       "<tensorflow.python.keras.callbacks.History at 0x168c1d09d88>"
      ]
     },
     "execution_count": 16,
     "metadata": {},
     "output_type": "execute_result"
    }
   ],
   "source": [
    "model.fit(X_train, Y_train, epochs=30, batch_size=10, verbose=True)"
   ]
  },
  {
   "cell_type": "code",
   "execution_count": 17,
   "metadata": {},
   "outputs": [
    {
     "name": "stdout",
     "output_type": "stream",
     "text": [
      "Result for NN Model: \n",
      "0.7912087912087912\n",
      "              precision    recall  f1-score   support\n",
      "\n",
      "           0       0.83      0.91      0.87       106\n",
      "           1       0.80      0.67      0.73        72\n",
      "           2       0.00      0.00      0.00         0\n",
      "           3       0.00      0.00      0.00         0\n",
      "           4       0.00      0.00      0.00         4\n",
      "\n",
      "   micro avg       0.82      0.79      0.81       182\n",
      "   macro avg       0.33      0.31      0.32       182\n",
      "weighted avg       0.80      0.79      0.79       182\n",
      " samples avg       0.79      0.79      0.79       182\n",
      "\n"
     ]
    },
    {
     "name": "stderr",
     "output_type": "stream",
     "text": [
      "C:\\Users\\Srijith\\anaconda3\\lib\\site-packages\\sklearn\\metrics\\_classification.py:1221: UndefinedMetricWarning: Precision and F-score are ill-defined and being set to 0.0 in labels with no predicted samples. Use `zero_division` parameter to control this behavior.\n",
      "  _warn_prf(average, modifier, msg_start, len(result))\n",
      "C:\\Users\\Srijith\\anaconda3\\lib\\site-packages\\sklearn\\metrics\\_classification.py:1221: UndefinedMetricWarning: Recall and F-score are ill-defined and being set to 0.0 in labels with no true samples. Use `zero_division` parameter to control this behavior.\n",
      "  _warn_prf(average, modifier, msg_start, len(result))\n",
      "C:\\Users\\Srijith\\anaconda3\\lib\\site-packages\\sklearn\\metrics\\_classification.py:1221: UndefinedMetricWarning: Precision and F-score are ill-defined and being set to 0.0 in samples with no predicted labels. Use `zero_division` parameter to control this behavior.\n",
      "  _warn_prf(average, modifier, msg_start, len(result))\n"
     ]
    }
   ],
   "source": [
    "from sklearn.metrics import classification_report, accuracy_score\n",
    "pred = np.round(model.predict(X_test)).astype(int)\n",
    "\n",
    "print(\"Result for NN Model: \")\n",
    "print(accuracy_score(Y_test, pred))\n",
    "print(classification_report(Y_test, pred))"
   ]
  },
  {
   "cell_type": "code",
   "execution_count": 18,
   "metadata": {},
   "outputs": [
    {
     "name": "stdout",
     "output_type": "stream",
     "text": [
      "6/6 [==============================] - 0s 661us/step - loss: 0.2029 - accuracy: 0.8132\n",
      "Test Patient Accuracy: 0.8131868243217468\n"
     ]
    }
   ],
   "source": [
    "test_loss, test_accuracy = model.evaluate(X_test, Y_test)\n",
    "print(\"Test Patient Accuracy: {}\".format(test_accuracy))"
   ]
  },
  {
   "cell_type": "code",
   "execution_count": null,
   "metadata": {},
   "outputs": [],
   "source": []
  },
  {
   "cell_type": "code",
   "execution_count": null,
   "metadata": {},
   "outputs": [],
   "source": []
  },
  {
   "cell_type": "code",
   "execution_count": null,
   "metadata": {},
   "outputs": [],
   "source": []
  },
  {
   "cell_type": "code",
   "execution_count": 19,
   "metadata": {},
   "outputs": [],
   "source": [
    "def model2():\n",
    "##GRU Architecture##\n",
    "# The GRU architecture\n",
    "    model_GRU = Sequential()\n",
    "# First GRU layer with Dropout regularisation\n",
    "    model_GRU.add(GRU(units=128, return_sequences=True, input_shape=(X_train.shape[1],1), activation='tanh'))\n",
    "    model_GRU.add(Dropout(0.2))\n",
    "# Second GRU layer\n",
    "    model_GRU.add(GRU(units=64, return_sequences=True, input_shape=(X_train.shape[1],1), activation='tanh'))\n",
    "    model_GRU.add(Dropout(0.2))\n",
    "# Third GRU layer\n",
    "    model_GRU.add(GRU(units=32, return_sequences=True, input_shape=(X_train.shape[1],1), activation='tanh'))\n",
    "    model_GRU.add(Dropout(0.2))\n",
    "# Fourth GRU layer\n",
    "    model_GRU.add(GRU(units=16, activation='tanh'))\n",
    "    model_GRU.add(Dropout(0.2))\n",
    "# The output layer\n",
    "    model_GRU.add(Dense(units=5,activation='sigmoid'))\n",
    "# Compiling the RNN\n",
    "    model_GRU.compile(optimizer=SGD(lr=0.01, decay=1e-7, momentum=0.9, nesterov=False),loss='binary_crossentropy')\n",
    "    return model"
   ]
  },
  {
   "cell_type": "code",
   "execution_count": 20,
   "metadata": {},
   "outputs": [
    {
     "name": "stdout",
     "output_type": "stream",
     "text": [
      "Model: \"sequential\"\n",
      "_________________________________________________________________\n",
      "Layer (type)                 Output Shape              Param #   \n",
      "=================================================================\n",
      "dense (Dense)                (None, 128)               1792      \n",
      "_________________________________________________________________\n",
      "dropout (Dropout)            (None, 128)               0         \n",
      "_________________________________________________________________\n",
      "dense_1 (Dense)              (None, 64)                8256      \n",
      "_________________________________________________________________\n",
      "dropout_1 (Dropout)          (None, 64)                0         \n",
      "_________________________________________________________________\n",
      "dense_2 (Dense)              (None, 32)                2080      \n",
      "_________________________________________________________________\n",
      "dropout_2 (Dropout)          (None, 32)                0         \n",
      "_________________________________________________________________\n",
      "dense_3 (Dense)              (None, 5)                 165       \n",
      "=================================================================\n",
      "Total params: 12,293\n",
      "Trainable params: 12,293\n",
      "Non-trainable params: 0\n",
      "_________________________________________________________________\n",
      "None\n"
     ]
    }
   ],
   "source": [
    "model_GRU = model2()\n",
    "print(model_GRU.summary())"
   ]
  },
  {
   "cell_type": "code",
   "execution_count": 21,
   "metadata": {},
   "outputs": [
    {
     "name": "stdout",
     "output_type": "stream",
     "text": [
      "Epoch 1/30\n",
      "73/73 [==============================] - 0s 1ms/step - loss: 0.2445 - accuracy: 0.7186\n",
      "Epoch 2/30\n",
      "73/73 [==============================] - 0s 1ms/step - loss: 0.2380 - accuracy: 0.7379\n",
      "Epoch 3/30\n",
      "73/73 [==============================] - 0s 1ms/step - loss: 0.2414 - accuracy: 0.7352\n",
      "Epoch 4/30\n",
      "73/73 [==============================] - 0s 1ms/step - loss: 0.2354 - accuracy: 0.7379\n",
      "Epoch 5/30\n",
      "73/73 [==============================] - 0s 1ms/step - loss: 0.2296 - accuracy: 0.7407\n",
      "Epoch 6/30\n",
      "73/73 [==============================] - 0s 1ms/step - loss: 0.2328 - accuracy: 0.7586\n",
      "Epoch 7/30\n",
      "73/73 [==============================] - 0s 1ms/step - loss: 0.2356 - accuracy: 0.7338\n",
      "Epoch 8/30\n",
      "73/73 [==============================] - 0s 1ms/step - loss: 0.2409 - accuracy: 0.7310\n",
      "Epoch 9/30\n",
      "73/73 [==============================] - 0s 1ms/step - loss: 0.2325 - accuracy: 0.7476\n",
      "Epoch 10/30\n",
      "73/73 [==============================] - 0s 1ms/step - loss: 0.2286 - accuracy: 0.7559\n",
      "Epoch 11/30\n",
      "73/73 [==============================] - 0s 1ms/step - loss: 0.2286 - accuracy: 0.7559\n",
      "Epoch 12/30\n",
      "73/73 [==============================] - 0s 1ms/step - loss: 0.2275 - accuracy: 0.7490\n",
      "Epoch 13/30\n",
      "73/73 [==============================] - 0s 1ms/step - loss: 0.2349 - accuracy: 0.7338\n",
      "Epoch 14/30\n",
      "73/73 [==============================] - 0s 1ms/step - loss: 0.2247 - accuracy: 0.7752\n",
      "Epoch 15/30\n",
      "73/73 [==============================] - 0s 1ms/step - loss: 0.2194 - accuracy: 0.7545\n",
      "Epoch 16/30\n",
      "73/73 [==============================] - 0s 1ms/step - loss: 0.2206 - accuracy: 0.7724\n",
      "Epoch 17/30\n",
      "73/73 [==============================] - 0s 1ms/step - loss: 0.2225 - accuracy: 0.7366\n",
      "Epoch 18/30\n",
      "73/73 [==============================] - 0s 1ms/step - loss: 0.2175 - accuracy: 0.7779\n",
      "Epoch 19/30\n",
      "73/73 [==============================] - 0s 1ms/step - loss: 0.2188 - accuracy: 0.7710\n",
      "Epoch 20/30\n",
      "73/73 [==============================] - 0s 1ms/step - loss: 0.2246 - accuracy: 0.7614\n",
      "Epoch 21/30\n",
      "73/73 [==============================] - 0s 1ms/step - loss: 0.2211 - accuracy: 0.7876\n",
      "Epoch 22/30\n",
      "73/73 [==============================] - 0s 1ms/step - loss: 0.2181 - accuracy: 0.7614\n",
      "Epoch 23/30\n",
      "73/73 [==============================] - 0s 1ms/step - loss: 0.2205 - accuracy: 0.7434\n",
      "Epoch 24/30\n",
      "73/73 [==============================] - 0s 1ms/step - loss: 0.2188 - accuracy: 0.7752\n",
      "Epoch 25/30\n",
      "73/73 [==============================] - 0s 1ms/step - loss: 0.2150 - accuracy: 0.7848\n",
      "Epoch 26/30\n",
      "73/73 [==============================] - 0s 1ms/step - loss: 0.2158 - accuracy: 0.7793\n",
      "Epoch 27/30\n",
      "73/73 [==============================] - 0s 1ms/step - loss: 0.2147 - accuracy: 0.7821\n",
      "Epoch 28/30\n",
      "73/73 [==============================] - 0s 1ms/step - loss: 0.2153 - accuracy: 0.7793\n",
      "Epoch 29/30\n",
      "73/73 [==============================] - 0s 1ms/step - loss: 0.2044 - accuracy: 0.7766\n",
      "Epoch 30/30\n",
      "73/73 [==============================] - 0s 1ms/step - loss: 0.2065 - accuracy: 0.7821\n"
     ]
    },
    {
     "data": {
      "text/plain": [
       "<tensorflow.python.keras.callbacks.History at 0x168c01fa108>"
      ]
     },
     "execution_count": 21,
     "metadata": {},
     "output_type": "execute_result"
    }
   ],
   "source": [
    "model_GRU.fit(X_train, Y_train, epochs=30, batch_size=10, verbose=True)"
   ]
  },
  {
   "cell_type": "code",
   "execution_count": 22,
   "metadata": {},
   "outputs": [
    {
     "name": "stdout",
     "output_type": "stream",
     "text": [
      "Result for GRU Model: \n",
      "0.8406593406593407\n",
      "              precision    recall  f1-score   support\n",
      "\n",
      "           0       0.86      0.92      0.89       106\n",
      "           1       0.83      0.76      0.80        72\n",
      "           2       0.00      0.00      0.00         0\n",
      "           3       0.00      0.00      0.00         0\n",
      "           4       0.00      0.00      0.00         4\n",
      "\n",
      "   micro avg       0.85      0.84      0.85       182\n",
      "   macro avg       0.34      0.34      0.34       182\n",
      "weighted avg       0.83      0.84      0.83       182\n",
      " samples avg       0.84      0.84      0.84       182\n",
      "\n"
     ]
    }
   ],
   "source": [
    "# Preccsion tracks false positives, Recall tracks false negatives\n",
    "from sklearn.metrics import classification_report, accuracy_score\n",
    "\n",
    "gru_pred = np.round(model_GRU.predict(X_test)).astype(int)\n",
    "\n",
    "print(\"Result for GRU Model: \")\n",
    "print(accuracy_score(Y_test, gru_pred))\n",
    "print(classification_report(Y_test, gru_pred))"
   ]
  },
  {
   "cell_type": "code",
   "execution_count": 23,
   "metadata": {},
   "outputs": [
    {
     "name": "stdout",
     "output_type": "stream",
     "text": [
      "6/6 [==============================] - 0s 618us/step - loss: 0.1771 - accuracy: 0.8407\n",
      "Test Patient Accuracy: 0.8406593203544617\n"
     ]
    }
   ],
   "source": [
    "test_loss, test_accuracy = model_GRU.evaluate(X_test, Y_test)\n",
    "print(\"Test Patient Accuracy: {}\".format(test_accuracy))"
   ]
  },
  {
   "cell_type": "code",
   "execution_count": null,
   "metadata": {},
   "outputs": [],
   "source": []
  },
  {
   "cell_type": "code",
   "execution_count": null,
   "metadata": {},
   "outputs": [],
   "source": []
  }
 ],
 "metadata": {
  "kernelspec": {
   "display_name": "Python 3",
   "language": "python",
   "name": "python3"
  },
  "language_info": {
   "codemirror_mode": {
    "name": "ipython",
    "version": 3
   },
   "file_extension": ".py",
   "mimetype": "text/x-python",
   "name": "python",
   "nbconvert_exporter": "python",
   "pygments_lexer": "ipython3",
   "version": "3.7.6"
  }
 },
 "nbformat": 4,
 "nbformat_minor": 4
}
